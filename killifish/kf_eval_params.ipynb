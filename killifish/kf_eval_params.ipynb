{
 "cells": [
  {
   "cell_type": "markdown",
   "metadata": {},
   "source": [
    "# Evaluate fitted parameters\n",
    "\n",
    "This notebook evaluates the fitted parameters of selected models."
   ]
  },
  {
   "cell_type": "code",
   "execution_count": 27,
   "metadata": {},
   "outputs": [],
   "source": [
    "import wandb\n",
    "import numpy as onp\n",
    "from pathlib import Path\n",
    "\n",
    "# WandB entity and project information\n",
    "ENTITY = 'eyz'\n",
    "PROJECT = 'kf-dtd-231022'\n",
    "\n",
    "# Pair run name with run id, ugh\n",
    "run_dict = {\n",
    "    'sage-sweep-28': 'f0y6gcca',\n",
    "}"
   ]
  },
  {
   "cell_type": "markdown",
   "metadata": {},
   "source": [
    "## Load data"
   ]
  },
  {
   "cell_type": "code",
   "execution_count": 30,
   "metadata": {},
   "outputs": [],
   "source": [
    "def get_fitted_params(run_id: str):\n",
    "    \"\"\"Return tuple of params for the given run.\"\"\"\n",
    "\n",
    "    api = wandb.Api()\n",
    "\n",
    "    run = api.run(f\"{ENTITY}/{PROJECT}/{run_id}\")\n",
    "\n",
    "    # run.file(...).download(...) only seems to recognize paths relative to cwd\n",
    "    rel_path = '../temp/{run_id}'\n",
    "\n",
    "    # If file already exists, do not re-download\n",
    "    run.file(\"params.npz\").download(root=rel_path, exist_ok=True)\n",
    "\n",
    "    params = onp.load(Path(rel_path)/'params.npz')\n",
    "\n",
    "    return params['G'], params['F1'], params['F2'], params['F3']\n"
   ]
  },
  {
   "cell_type": "code",
   "execution_count": 34,
   "metadata": {},
   "outputs": [
    {
     "name": "stdout",
     "output_type": "stream",
     "text": [
      "G\t(50, 4, 30)\n",
      "F1\t(14410, 50)\n",
      "F2\t(144, 4)\n",
      "F3\t(30, 100)\n"
     ]
    }
   ],
   "source": [
    "params = get_fitted_params(run_dict['sage-sweep-28'])\n",
    "\n",
    "for params_name, _param in zip(['G', 'F1', 'F2', 'F3'], params):\n",
    "    print(f'{params_name}\\t{_param.shape}')"
   ]
  },
  {
   "cell_type": "code",
   "execution_count": null,
   "metadata": {},
   "outputs": [],
   "source": []
  }
 ],
 "metadata": {
  "kernelspec": {
   "display_name": "dtd",
   "language": "python",
   "name": "python3"
  },
  "language_info": {
   "codemirror_mode": {
    "name": "ipython",
    "version": 3
   },
   "file_extension": ".py",
   "mimetype": "text/x-python",
   "name": "python",
   "nbconvert_exporter": "python",
   "pygments_lexer": "ipython3",
   "version": "3.10.12"
  },
  "orig_nbformat": 4
 },
 "nbformat": 4,
 "nbformat_minor": 2
}
