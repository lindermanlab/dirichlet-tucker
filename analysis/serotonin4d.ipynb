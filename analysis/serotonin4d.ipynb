{
 "cells": [
  {
   "cell_type": "code",
   "execution_count": 1,
   "id": "896eb8aa",
   "metadata": {},
   "outputs": [
    {
     "name": "stdout",
     "output_type": "stream",
     "text": [
      "Fri Aug 11 10:01:20 2023       \r\n",
      "+---------------------------------------------------------------------------------------+\r\n",
      "| NVIDIA-SMI 535.54.03              Driver Version: 535.54.03    CUDA Version: 12.2     |\r\n",
      "|-----------------------------------------+----------------------+----------------------+\r\n",
      "| GPU  Name                 Persistence-M | Bus-Id        Disp.A | Volatile Uncorr. ECC |\r\n",
      "| Fan  Temp   Perf          Pwr:Usage/Cap |         Memory-Usage | GPU-Util  Compute M. |\r\n",
      "|                                         |                      |               MIG M. |\r\n",
      "|=========================================+======================+======================|\r\n",
      "|   0  NVIDIA A100-SXM4-80GB          On  | 00000000:C1:00.0 Off |                    0 |\r\n",
      "| N/A   29C    P0              82W / 500W |      4MiB / 81920MiB |      0%   E. Process |\r\n",
      "|                                         |                      |             Disabled |\r\n",
      "+-----------------------------------------+----------------------+----------------------+\r\n",
      "                                                                                         \r\n",
      "+---------------------------------------------------------------------------------------+\r\n",
      "| Processes:                                                                            |\r\n",
      "|  GPU   GI   CI        PID   Type   Process name                            GPU Memory |\r\n",
      "|        ID   ID                                                             Usage      |\r\n",
      "|=======================================================================================|\r\n",
      "|  No running processes found                                                           |\r\n",
      "+---------------------------------------------------------------------------------------+\r\n"
     ]
    }
   ],
   "source": [
    "!nvidia-smi"
   ]
  },
  {
   "cell_type": "code",
   "execution_count": 2,
   "id": "2388e606",
   "metadata": {},
   "outputs": [
    {
     "name": "stderr",
     "output_type": "stream",
     "text": [
      "/home/users/swl1/.local/lib/python3.9/site-packages/urllib3/__init__.py:34: NotOpenSSLWarning: urllib3 v2.0 only supports OpenSSL 1.1.1+, currently the 'ssl' module is compiled with 'LibreSSL 3.2.1'. See: https://github.com/urllib3/urllib3/issues/3020\n",
      "  warnings.warn(\n"
     ]
    }
   ],
   "source": [
    "import bson\n",
    "import click\n",
    "import os\n",
    "import numpy as np\n",
    "import matplotlib.pyplot as plt\n",
    "import wandb\n",
    "\n",
    "import itertools as it\n",
    "import jax.numpy as jnp\n",
    "import jax.random as jr\n",
    "import matplotlib.pyplot as plt\n",
    "from sklearn.linear_model import LogisticRegression\n",
    "from sklearn.model_selection import GridSearchCV, cross_val_predict\n",
    "from sklearn.metrics import confusion_matrix\n",
    "from tensorflow_probability.substrates import jax as tfp\n",
    "from tqdm.auto import trange\n",
    "\n",
    "from dtd.model4d import DirichletTuckerDecomp\n",
    "\n",
    "tfd = tfp.distributions"
   ]
  },
  {
   "cell_type": "code",
   "execution_count": 3,
   "id": "e8234151",
   "metadata": {},
   "outputs": [],
   "source": [
    "def load_data(data_dir):\n",
    "    # Load te drug ids ((M,) array of ints)\n",
    "    y = np.load(os.path.join(data_dir, \"drug_ids.npy\"))\n",
    "\n",
    "    # read in behav data\n",
    "    with open(os.path.join(data_dir, \"behav_data.bson\"), 'rb') as f:\n",
    "        data = bson.decode_all(f.read())\n",
    "    \n",
    "    X = np.reshape(np.frombuffer(data[0]['Xb']['data'], dtype=np.float64), data[0]['Xb']['size'], order='F').astype(np.float32)\n",
    "    \n",
    "    # Behavior tensor X is mice x syllables x positions x epochs\n",
    "    # Permute to mice x epochs x positions x syllables\n",
    "    X = np.transpose(X, (0, 3, 2, 1))\n",
    "    \n",
    "    # Permute the syllables\n",
    "    perm = np.array([2, 45, 32, 33, 20, 23, 31, 47, 6, 25, 10, 17, 42, 12, 30, 36, 28, 34, 49, 13, 44, 7, 16, 15, 29, 48, 37, 38, 8, 24, 39, 43, 1, 26, 11, 19, 9, 40, 27, 21, 3, 18, 35, 4, 14, 5, 41, 22, 46, 50]) - 1\n",
    "    X = X[..., perm]\n",
    "    return X, y\n",
    "\n",
    "\n",
    "def make_mask(X, key=0, train_frac=0.8):\n",
    "    \"\"\"## Split the data into train and test\"\"\"\n",
    "    M, N, P, S = X.shape\n",
    "    key = jr.PRNGKey(key)\n",
    "    mask = tfd.Bernoulli(probs=train_frac).sample(seed=key, sample_shape = (M, N)).astype(bool)\n",
    "    return mask\n",
    "\n",
    "\n",
    "def fit_model(key, X, mask, K_M, K_N, K_P, K_S, alpha, num_iters, tol):\n",
    "    M, N, P, S = X.shape\n",
    "    C = X[0,0].sum()\n",
    "\n",
    "    # Construct a model\n",
    "    model = DirichletTuckerDecomp(C, K_M, K_N, K_P, K_S, alpha=alpha)\n",
    "    # Initialize the parameters randomly\n",
    "    print(\"initializing model\")\n",
    "    init_params = model.sample_params(key, M, N, P, S)\n",
    "    print(\"done\")\n",
    "\n",
    "    # Fit the model with EM\n",
    "    params, lps = model.fit(X, mask, init_params, num_iters, tol=tol)\n",
    "\n",
    "    return model, params, lps\n",
    "\n",
    "\n",
    "def plot_results(X, y, model, params):\n",
    "    # Compute the reconstruction\n",
    "    X_hat = model.reconstruct(params)\n",
    "\n",
    "    # Plot the true and reconstructed data for mouse `m`\n",
    "    m = 0\n",
    "    n = 0\n",
    "    fig, axs = plt.subplots(3, 1)\n",
    "    im = axs[0].imshow(X[m, n], aspect=\"auto\", interpolation=\"none\")\n",
    "    plt.colorbar(im)\n",
    "    im = axs[1].imshow(X_hat[m, n], aspect=\"auto\", interpolation=\"none\")\n",
    "    plt.colorbar(im)\n",
    "    im = axs[2].imshow(X[m, n] - X_hat[m, n], aspect=\"auto\", interpolation=\"none\")\n",
    "    plt.colorbar(im)\n",
    "\n",
    "    \"\"\"### Look at the factors\"\"\"\n",
    "    G, Psi, Phi, Theta, Lambda = params\n",
    "\n",
    "    # Plot the position topics\n",
    "    plt.figure()\n",
    "    plt.imshow(Theta, aspect=\"auto\", interpolation=\"none\")\n",
    "    plt.xlabel(\"position\")\n",
    "    plt.ylabel(\"topics\")\n",
    "    plt.colorbar()\n",
    "\n",
    "    # Plot the syllable topics\n",
    "    syll_groups = np.array([2, 2, 2, 2, 2, 2, 2, 2, 4, 4, 7, 7, 7, 7, 7, 7, 7, 7, 7, 5, 5, 5, 5, 5, 5, 5, 1, 1, 1, 1, 1, 1, 1, 1, 6, 6, 6, 6, 3, 3, 3, 3, 3, 3, 3, 3, 3, 3, 3, 3]) -1\n",
    "    group_bounds = np.cumsum(np.bincount(syll_groups)[:-1])\n",
    "\n",
    "    plt.figure()\n",
    "    plt.imshow(Lambda, aspect=\"auto\", interpolation=\"none\")\n",
    "    for bound in group_bounds:\n",
    "        plt.axvline(bound-.5, color='r')\n",
    "    plt.xlabel(\"syllables\")\n",
    "    plt.ylabel(\"topics\")\n",
    "    plt.colorbar()\n",
    "\n",
    "    # Plot the epoch loadings\n",
    "    plt.figure()\n",
    "    plt.imshow(Phi.T, aspect=\"auto\", interpolation=\"none\")\n",
    "    plt.xlabel(\"epochs\")\n",
    "    plt.ylabel(\"loadings\")\n",
    "    plt.colorbar()\n",
    "\n",
    "    # Plot the mouse loadings\n",
    "    plt.figure()\n",
    "    perm = jnp.argsort(y)\n",
    "    bounds = jnp.cumsum(jnp.bincount(y)[1:-1])\n",
    "    plt.imshow(Psi[perm], aspect=\"auto\", interpolation=\"none\")\n",
    "    for bound in bounds:\n",
    "        plt.axhline(bound, color='r')\n",
    "    plt.xlabel(\"loadings\")\n",
    "    plt.ylabel(\"mice\")\n",
    "    plt.colorbar()\n",
    "\n",
    "\n",
    "def evaluate_prediction(Psi, y):\n",
    "    \"\"\"### Classify drug labels\"\"\"\n",
    "\n",
    "    # normalize weights and factors\n",
    "    def normalize_weights(features):\n",
    "        features -= features.mean(axis=0)\n",
    "        features /= features.std(axis=0)\n",
    "        return features\n",
    "\n",
    "    parameters = {\"C\":10 ** np.linspace(-15,15,num=31)}\n",
    "    lr = LogisticRegression()\n",
    "    gridsearch = GridSearchCV(lr, parameters)\n",
    "    gridsearch.fit(normalize_weights(Psi), y)\n",
    "\n",
    "    acc = gridsearch.best_score_\n",
    "    classifier = gridsearch.best_estimator_\n",
    "    y_pred = cross_val_predict(classifier, normalize_weights(Psi), y=y)\n",
    "    confusion_mat = confusion_matrix(y, y_pred)\n",
    "\n",
    "    return acc, confusion_mat"
   ]
  },
  {
   "cell_type": "code",
   "execution_count": 4,
   "id": "165850b9",
   "metadata": {},
   "outputs": [
    {
     "name": "stdout",
     "output_type": "stream",
     "text": [
      "initializing model\n",
      "done\n"
     ]
    },
    {
     "data": {
      "application/vnd.jupyter.widget-view+json": {
       "model_id": "39dd76adf8314955a6b002f9c015ffeb",
       "version_major": 2,
       "version_minor": 0
      },
      "text/plain": [
       "  0%|          | 0/2000 [00:00<?, ?it/s]"
      ]
     },
     "metadata": {},
     "output_type": "display_data"
    },
    {
     "name": "stdout",
     "output_type": "stream",
     "text": [
      "itr 0000: lp: -5.87014\n",
      "itr 0100: lp: -5.37884\n",
      "itr 0200: lp: -5.35697\n",
      "itr 0300: lp: -5.35362\n",
      "itr 0400: lp: -5.35197\n",
      "itr 0500: lp: -5.35129\n",
      "itr 0600: lp: -5.35096\n",
      "itr 0700: lp: -5.35071\n",
      "itr 0800: lp: -5.35051\n",
      "itr 0900: lp: -5.35030\n",
      "itr 1000: lp: -5.35010\n",
      "itr 1100: lp: -5.34994\n",
      "converged at tolerance level 0.0001\n"
     ]
    }
   ],
   "source": [
    "data_dir = \"/home/groups/swl1/swl1\"\n",
    "seed = 0 \n",
    "km = 20\n",
    "kn = 4 \n",
    "kp = 3 \n",
    "ks = 16 \n",
    "alpha = 1.1\n",
    "num_iters = 2000\n",
    "tol = 1e-4\n",
    "\n",
    "key = jr.PRNGKey(seed)\n",
    "\n",
    "# Split the data deterministically\n",
    "X, y = load_data(data_dir)\n",
    "mask = make_mask(X, key=0)\n",
    "\n",
    "# Fit the model using the random seed provided\n",
    "model, params, lps = fit_model(key, X, mask, km, kn, kp, ks, alpha, num_iters, tol)"
   ]
  },
  {
   "cell_type": "code",
   "execution_count": 5,
   "id": "63127216",
   "metadata": {},
   "outputs": [
    {
     "name": "stdout",
     "output_type": "stream",
     "text": [
      "pct_dev: 0.38039988\n"
     ]
    }
   ],
   "source": [
    "# Compute test LL\n",
    "test_ll = model.heldout_log_likelihood(X, mask, params)\n",
    "\n",
    "# Make a baseline of average syllable usage in each epoch\n",
    "# NOTE: ignores the multinomial normalizing constant, like `heldout_log_likelihood`\n",
    "baseline_probs = jnp.mean(X[mask], axis=0) + alpha\n",
    "baseline_probs /= baseline_probs.sum()\n",
    "baseline_test_ll = jnp.sum(X[~mask] * jnp.log(baseline_probs))\n",
    "\n",
    "# Compute the test log likelihood under the saturated model\n",
    "sat_probs = X[~mask] / X[~mask].sum(axis=(-1, -2), keepdims=True)\n",
    "sat_test_ll = jnp.nansum(X[~mask] * jnp.log(sat_probs))\n",
    "\n",
    "pct_dev = (test_ll - baseline_test_ll) / (sat_test_ll - baseline_test_ll)\n",
    "print(\"pct_dev:\", pct_dev)"
   ]
  },
  {
   "cell_type": "code",
   "execution_count": 6,
   "id": "1d79bacd",
   "metadata": {},
   "outputs": [
    {
     "name": "stdout",
     "output_type": "stream",
     "text": [
      "acc: 0.4577540106951871\n"
     ]
    }
   ],
   "source": [
    "G, Psi, Phi, Theta, Lambda = params\n",
    "acc, _ = evaluate_prediction(Psi, y)\n",
    "print(\"acc:\", acc)"
   ]
  },
  {
   "cell_type": "code",
   "execution_count": 7,
   "id": "8726b429",
   "metadata": {
    "scrolled": false
   },
   "outputs": [
    {
     "data": {
      "image/png": "[encoded data removed]",
      "text/plain": [
       "<Figure size 432x288 with 6 Axes>"
      ]
     },
     "metadata": {
      "needs_background": "light"
     },
     "output_type": "display_data"
    },
    {
     "data": {
      "image/png": "[encoded data removed]",
      "text/plain": [
       "<Figure size 432x288 with 2 Axes>"
      ]
     },
     "metadata": {
      "needs_background": "light"
     },
     "output_type": "display_data"
    },
    {
     "data": {
      "image/png": "[encoded data removed]",
      "text/plain": [
       "<Figure size 432x288 with 2 Axes>"
      ]
     },
     "metadata": {
      "needs_background": "light"
     },
     "output_type": "display_data"
    },
    {
     "data": {
      "image/png": "[encoded data removed]",
      "text/plain": [
       "<Figure size 432x288 with 2 Axes>"
      ]
     },
     "metadata": {
      "needs_background": "light"
     },
     "output_type": "display_data"
    },
    {
     "data": {
      "image/png": "[encoded data removed]",
      "text/plain": [
       "<Figure size 432x288 with 2 Axes>"
      ]
     },
     "metadata": {
      "needs_background": "light"
     },
     "output_type": "display_data"
    }
   ],
   "source": [
    "# Plot some results\n",
    "plot_results(X, y, model, params)"
   ]
  }
 ],
 "metadata": {
  "kernelspec": {
   "display_name": "Python 3 (ipykernel)",
   "language": "python",
   "name": "python3"
  },
  "language_info": {
   "codemirror_mode": {
    "name": "ipython",
    "version": 3
   },
   "file_extension": ".py",
   "mimetype": "text/x-python",
   "name": "python",
   "nbconvert_exporter": "python",
   "pygments_lexer": "ipython3",
   "version": "3.9.0"
  }
 },
 "nbformat": 4,
 "nbformat_minor": 5
}
